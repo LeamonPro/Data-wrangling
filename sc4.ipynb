{
  "cells": [
    {
      "cell_type": "markdown",
      "metadata": {
        "id": "j0W8aTbrKTfg"
      },
      "source": [
        "1) importation de la bibliothèque Pandas"
      ]
    },
    {
      "cell_type": "code",
      "execution_count": 91,
      "metadata": {
        "id": "XxMZ0Fx7FACv"
      },
      "outputs": [],
      "source": [
        "import pandas as pd"
      ]
    },
    {
      "cell_type": "markdown",
      "metadata": {
        "id": "g0Z5_UHuKahZ"
      },
      "source": [
        "2) importer le fichier \"College_Data.csv\" et afficher les 5 premières lignes\n"
      ]
    },
    {
      "cell_type": "code",
      "execution_count": 92,
      "metadata": {
        "id": "SqKdgVZyFCB9"
      },
      "outputs": [
        {
          "data": {
            "text/html": [
              "<div>\n",
              "<style scoped>\n",
              "    .dataframe tbody tr th:only-of-type {\n",
              "        vertical-align: middle;\n",
              "    }\n",
              "\n",
              "    .dataframe tbody tr th {\n",
              "        vertical-align: top;\n",
              "    }\n",
              "\n",
              "    .dataframe thead th {\n",
              "        text-align: right;\n",
              "    }\n",
              "</style>\n",
              "<table border=\"1\" class=\"dataframe\">\n",
              "  <thead>\n",
              "    <tr style=\"text-align: right;\">\n",
              "      <th></th>\n",
              "      <th>Name</th>\n",
              "      <th>private</th>\n",
              "      <th>apps</th>\n",
              "      <th>accept</th>\n",
              "      <th>enroll</th>\n",
              "      <th>full_time</th>\n",
              "      <th>part_time</th>\n",
              "      <th>outstate</th>\n",
              "      <th>room_board</th>\n",
              "      <th>books</th>\n",
              "      <th>personal</th>\n",
              "      <th>prof_phd</th>\n",
              "      <th>prof_terminal</th>\n",
              "      <th>std_by_prof</th>\n",
              "      <th>perc_alumni</th>\n",
              "      <th>grad_rate</th>\n",
              "    </tr>\n",
              "  </thead>\n",
              "  <tbody>\n",
              "    <tr>\n",
              "      <th>0</th>\n",
              "      <td>Abilene Christian University</td>\n",
              "      <td>Yes</td>\n",
              "      <td>1660</td>\n",
              "      <td>1232</td>\n",
              "      <td>721</td>\n",
              "      <td>2885</td>\n",
              "      <td>537</td>\n",
              "      <td>7440</td>\n",
              "      <td>3300</td>\n",
              "      <td>450</td>\n",
              "      <td>2200</td>\n",
              "      <td>70</td>\n",
              "      <td>78</td>\n",
              "      <td>18.1</td>\n",
              "      <td>12</td>\n",
              "      <td>60</td>\n",
              "    </tr>\n",
              "    <tr>\n",
              "      <th>1</th>\n",
              "      <td>Adelphi University</td>\n",
              "      <td>Yes</td>\n",
              "      <td>2186</td>\n",
              "      <td>1924</td>\n",
              "      <td>512</td>\n",
              "      <td>2683</td>\n",
              "      <td>1227</td>\n",
              "      <td>12280</td>\n",
              "      <td>6450</td>\n",
              "      <td>750</td>\n",
              "      <td>1500</td>\n",
              "      <td>29</td>\n",
              "      <td>30</td>\n",
              "      <td>12.2</td>\n",
              "      <td>16</td>\n",
              "      <td>56</td>\n",
              "    </tr>\n",
              "    <tr>\n",
              "      <th>2</th>\n",
              "      <td>Adrian College</td>\n",
              "      <td>Yes</td>\n",
              "      <td>1428</td>\n",
              "      <td>1097</td>\n",
              "      <td>336</td>\n",
              "      <td>1036</td>\n",
              "      <td>99</td>\n",
              "      <td>11250</td>\n",
              "      <td>3750</td>\n",
              "      <td>400</td>\n",
              "      <td>1165</td>\n",
              "      <td>53</td>\n",
              "      <td>66</td>\n",
              "      <td>12.9</td>\n",
              "      <td>30</td>\n",
              "      <td>54</td>\n",
              "    </tr>\n",
              "    <tr>\n",
              "      <th>3</th>\n",
              "      <td>Agnes Scott College</td>\n",
              "      <td>Yes</td>\n",
              "      <td>417</td>\n",
              "      <td>349</td>\n",
              "      <td>137</td>\n",
              "      <td>510</td>\n",
              "      <td>63</td>\n",
              "      <td>12960</td>\n",
              "      <td>5450</td>\n",
              "      <td>450</td>\n",
              "      <td>875</td>\n",
              "      <td>92</td>\n",
              "      <td>97</td>\n",
              "      <td>7.7</td>\n",
              "      <td>37</td>\n",
              "      <td>59</td>\n",
              "    </tr>\n",
              "    <tr>\n",
              "      <th>4</th>\n",
              "      <td>Alaska Pacific University</td>\n",
              "      <td>Yes</td>\n",
              "      <td>193</td>\n",
              "      <td>146</td>\n",
              "      <td>55</td>\n",
              "      <td>249</td>\n",
              "      <td>869</td>\n",
              "      <td>7560</td>\n",
              "      <td>4120</td>\n",
              "      <td>800</td>\n",
              "      <td>1500</td>\n",
              "      <td>76</td>\n",
              "      <td>72</td>\n",
              "      <td>11.9</td>\n",
              "      <td>2</td>\n",
              "      <td>15</td>\n",
              "    </tr>\n",
              "    <tr>\n",
              "      <th>...</th>\n",
              "      <td>...</td>\n",
              "      <td>...</td>\n",
              "      <td>...</td>\n",
              "      <td>...</td>\n",
              "      <td>...</td>\n",
              "      <td>...</td>\n",
              "      <td>...</td>\n",
              "      <td>...</td>\n",
              "      <td>...</td>\n",
              "      <td>...</td>\n",
              "      <td>...</td>\n",
              "      <td>...</td>\n",
              "      <td>...</td>\n",
              "      <td>...</td>\n",
              "      <td>...</td>\n",
              "      <td>...</td>\n",
              "    </tr>\n",
              "    <tr>\n",
              "      <th>775</th>\n",
              "      <td>Worcester State College</td>\n",
              "      <td>No</td>\n",
              "      <td>2197</td>\n",
              "      <td>1515</td>\n",
              "      <td>543</td>\n",
              "      <td>3089</td>\n",
              "      <td>2029</td>\n",
              "      <td>6797</td>\n",
              "      <td>3900</td>\n",
              "      <td>500</td>\n",
              "      <td>1200</td>\n",
              "      <td>60</td>\n",
              "      <td>60</td>\n",
              "      <td>21.0</td>\n",
              "      <td>14</td>\n",
              "      <td>40</td>\n",
              "    </tr>\n",
              "    <tr>\n",
              "      <th>776</th>\n",
              "      <td>Xavier University</td>\n",
              "      <td>Yes</td>\n",
              "      <td>1959</td>\n",
              "      <td>1805</td>\n",
              "      <td>695</td>\n",
              "      <td>2849</td>\n",
              "      <td>1107</td>\n",
              "      <td>11520</td>\n",
              "      <td>4960</td>\n",
              "      <td>600</td>\n",
              "      <td>1250</td>\n",
              "      <td>73</td>\n",
              "      <td>75</td>\n",
              "      <td>13.3</td>\n",
              "      <td>31</td>\n",
              "      <td>83</td>\n",
              "    </tr>\n",
              "    <tr>\n",
              "      <th>777</th>\n",
              "      <td>Xavier University of Louisiana</td>\n",
              "      <td>Yes</td>\n",
              "      <td>2097</td>\n",
              "      <td>1915</td>\n",
              "      <td>695</td>\n",
              "      <td>2793</td>\n",
              "      <td>166</td>\n",
              "      <td>6900</td>\n",
              "      <td>4200</td>\n",
              "      <td>617</td>\n",
              "      <td>781</td>\n",
              "      <td>67</td>\n",
              "      <td>75</td>\n",
              "      <td>14.4</td>\n",
              "      <td>20</td>\n",
              "      <td>49</td>\n",
              "    </tr>\n",
              "    <tr>\n",
              "      <th>778</th>\n",
              "      <td>Yale University</td>\n",
              "      <td>Yes</td>\n",
              "      <td>10705</td>\n",
              "      <td>2453</td>\n",
              "      <td>1317</td>\n",
              "      <td>5217</td>\n",
              "      <td>83</td>\n",
              "      <td>19840</td>\n",
              "      <td>6510</td>\n",
              "      <td>630</td>\n",
              "      <td>2115</td>\n",
              "      <td>96</td>\n",
              "      <td>96</td>\n",
              "      <td>5.8</td>\n",
              "      <td>49</td>\n",
              "      <td>99</td>\n",
              "    </tr>\n",
              "    <tr>\n",
              "      <th>779</th>\n",
              "      <td>York College of Pennsylvania</td>\n",
              "      <td>Yes</td>\n",
              "      <td>2989</td>\n",
              "      <td>1855</td>\n",
              "      <td>691</td>\n",
              "      <td>2988</td>\n",
              "      <td>1726</td>\n",
              "      <td>4990</td>\n",
              "      <td>3560</td>\n",
              "      <td>500</td>\n",
              "      <td>1250</td>\n",
              "      <td>75</td>\n",
              "      <td>75</td>\n",
              "      <td>18.1</td>\n",
              "      <td>28</td>\n",
              "      <td>99</td>\n",
              "    </tr>\n",
              "  </tbody>\n",
              "</table>\n",
              "<p>780 rows × 16 columns</p>\n",
              "</div>"
            ],
            "text/plain": [
              "                               Name private   apps  accept  enroll  full_time  \\\n",
              "0      Abilene Christian University     Yes   1660    1232     721       2885   \n",
              "1                Adelphi University     Yes   2186    1924     512       2683   \n",
              "2                    Adrian College     Yes   1428    1097     336       1036   \n",
              "3               Agnes Scott College     Yes    417     349     137        510   \n",
              "4         Alaska Pacific University     Yes    193     146      55        249   \n",
              "..                              ...     ...    ...     ...     ...        ...   \n",
              "775         Worcester State College      No   2197    1515     543       3089   \n",
              "776               Xavier University     Yes   1959    1805     695       2849   \n",
              "777  Xavier University of Louisiana     Yes   2097    1915     695       2793   \n",
              "778                 Yale University     Yes  10705    2453    1317       5217   \n",
              "779    York College of Pennsylvania     Yes   2989    1855     691       2988   \n",
              "\n",
              "     part_time  outstate  room_board  books  personal  prof_phd  \\\n",
              "0          537      7440        3300    450      2200        70   \n",
              "1         1227     12280        6450    750      1500        29   \n",
              "2           99     11250        3750    400      1165        53   \n",
              "3           63     12960        5450    450       875        92   \n",
              "4          869      7560        4120    800      1500        76   \n",
              "..         ...       ...         ...    ...       ...       ...   \n",
              "775       2029      6797        3900    500      1200        60   \n",
              "776       1107     11520        4960    600      1250        73   \n",
              "777        166      6900        4200    617       781        67   \n",
              "778         83     19840        6510    630      2115        96   \n",
              "779       1726      4990        3560    500      1250        75   \n",
              "\n",
              "     prof_terminal  std_by_prof  perc_alumni  grad_rate  \n",
              "0               78         18.1           12         60  \n",
              "1               30         12.2           16         56  \n",
              "2               66         12.9           30         54  \n",
              "3               97          7.7           37         59  \n",
              "4               72         11.9            2         15  \n",
              "..             ...          ...          ...        ...  \n",
              "775             60         21.0           14         40  \n",
              "776             75         13.3           31         83  \n",
              "777             75         14.4           20         49  \n",
              "778             96          5.8           49         99  \n",
              "779             75         18.1           28         99  \n",
              "\n",
              "[780 rows x 16 columns]"
            ]
          },
          "execution_count": 92,
          "metadata": {},
          "output_type": "execute_result"
        }
      ],
      "source": [
        "df=pd.read_csv(\"college_data.csv\")\n",
        "df\n"
      ]
    },
    {
      "cell_type": "markdown",
      "metadata": {
        "id": "UNN7PkEOMRgX"
      },
      "source": [
        "3) Vérifier l'existence de valeurs nulls"
      ]
    },
    {
      "cell_type": "code",
      "execution_count": 93,
      "metadata": {
        "id": "DQSLScsGFXfl"
      },
      "outputs": [
        {
          "data": {
            "text/plain": [
              "Name             0\n",
              "private          0\n",
              "apps             0\n",
              "accept           0\n",
              "enroll           0\n",
              "full_time        0\n",
              "part_time        0\n",
              "outstate         0\n",
              "room_board       0\n",
              "books            0\n",
              "personal         0\n",
              "prof_phd         0\n",
              "prof_terminal    0\n",
              "std_by_prof      0\n",
              "perc_alumni      0\n",
              "grad_rate        0\n",
              "dtype: int64"
            ]
          },
          "execution_count": 93,
          "metadata": {},
          "output_type": "execute_result"
        }
      ],
      "source": [
        "df.isna().sum()"
      ]
    },
    {
      "cell_type": "markdown",
      "metadata": {
        "id": "yrW16SxCYyfM"
      },
      "source": [
        "4) Vérifier l'existence de doublons (des observations dupliquées)"
      ]
    },
    {
      "cell_type": "code",
      "execution_count": 94,
      "metadata": {
        "colab": {
          "base_uri": "https://localhost:8080/"
        },
        "id": "CjjJfNLZY5NT",
        "outputId": "e00376ac-9fb4-4255-8699-ed6430deffd2"
      },
      "outputs": [
        {
          "data": {
            "text/plain": [
              "3"
            ]
          },
          "execution_count": 94,
          "metadata": {},
          "output_type": "execute_result"
        }
      ],
      "source": [
        "df.duplicated().sum()"
      ]
    },
    {
      "cell_type": "code",
      "execution_count": 95,
      "metadata": {},
      "outputs": [
        {
          "data": {
            "text/plain": [
              "(777, 16)"
            ]
          },
          "execution_count": 95,
          "metadata": {},
          "output_type": "execute_result"
        }
      ],
      "source": [
        "df.drop_duplicates(inplace=True)\n",
        "df.shape"
      ]
    },
    {
      "cell_type": "markdown",
      "metadata": {
        "id": "FzsDeMNPMkCN"
      },
      "source": [
        "5) Afficher dans un nouvel dataframe (df1), le nombre d'universités privées et publiques ainsi que le nombre d'étudiants inscrits dans chaque type d'université."
      ]
    },
    {
      "cell_type": "code",
      "execution_count": 96,
      "metadata": {},
      "outputs": [
        {
          "data": {
            "text/html": [
              "<div>\n",
              "<style scoped>\n",
              "    .dataframe tbody tr th:only-of-type {\n",
              "        vertical-align: middle;\n",
              "    }\n",
              "\n",
              "    .dataframe tbody tr th {\n",
              "        vertical-align: top;\n",
              "    }\n",
              "\n",
              "    .dataframe thead th {\n",
              "        text-align: right;\n",
              "    }\n",
              "</style>\n",
              "<table border=\"1\" class=\"dataframe\">\n",
              "  <thead>\n",
              "    <tr style=\"text-align: right;\">\n",
              "      <th></th>\n",
              "      <th>count</th>\n",
              "      <th>enroll</th>\n",
              "    </tr>\n",
              "    <tr>\n",
              "      <th>private</th>\n",
              "      <th></th>\n",
              "      <th></th>\n",
              "    </tr>\n",
              "  </thead>\n",
              "  <tbody>\n",
              "    <tr>\n",
              "      <th>No</th>\n",
              "      <td>212</td>\n",
              "      <td>347865</td>\n",
              "    </tr>\n",
              "    <tr>\n",
              "      <th>Yes</th>\n",
              "      <td>565</td>\n",
              "      <td>258174</td>\n",
              "    </tr>\n",
              "  </tbody>\n",
              "</table>\n",
              "</div>"
            ],
            "text/plain": [
              "         count  enroll\n",
              "private               \n",
              "No         212  347865\n",
              "Yes        565  258174"
            ]
          },
          "execution_count": 96,
          "metadata": {},
          "output_type": "execute_result"
        }
      ],
      "source": [
        "df1=pd.DataFrame()\n",
        "df1[\"count\"]=df.groupby(\"private\").private.count()\n",
        "df1[\"enroll\"]=df.groupby(\"private\").enroll.sum()\n",
        "df1\n"
      ]
    },
    {
      "cell_type": "markdown",
      "metadata": {
        "id": "kTpYvBt5NGrr"
      },
      "source": [
        "6) Afficher pour dans un nouvel Dataframe (df2), le nom et le taux d'acceptation le moins élevé pour chaque type d'université "
      ]
    },
    {
      "cell_type": "code",
      "execution_count": 97,
      "metadata": {
        "colab": {
          "base_uri": "https://localhost:8080/",
          "height": 143
        },
        "id": "0SeLZm2mNICS",
        "outputId": "c21c21bb-591c-4409-efcd-fc203b32bb40"
      },
      "outputs": [
        {
          "data": {
            "text/html": [
              "<div>\n",
              "<style scoped>\n",
              "    .dataframe tbody tr th:only-of-type {\n",
              "        vertical-align: middle;\n",
              "    }\n",
              "\n",
              "    .dataframe tbody tr th {\n",
              "        vertical-align: top;\n",
              "    }\n",
              "\n",
              "    .dataframe thead th {\n",
              "        text-align: right;\n",
              "    }\n",
              "</style>\n",
              "<table border=\"1\" class=\"dataframe\">\n",
              "  <thead>\n",
              "    <tr style=\"text-align: right;\">\n",
              "      <th></th>\n",
              "      <th>name</th>\n",
              "      <th>taux_accep</th>\n",
              "    </tr>\n",
              "    <tr>\n",
              "      <th>private</th>\n",
              "      <th></th>\n",
              "      <th></th>\n",
              "    </tr>\n",
              "  </thead>\n",
              "  <tbody>\n",
              "    <tr>\n",
              "      <th>No</th>\n",
              "      <td>University of Virginia</td>\n",
              "      <td>33.970598</td>\n",
              "    </tr>\n",
              "    <tr>\n",
              "      <th>Yes</th>\n",
              "      <td>Princeton University</td>\n",
              "      <td>15.448631</td>\n",
              "    </tr>\n",
              "  </tbody>\n",
              "</table>\n",
              "</div>"
            ],
            "text/plain": [
              "                           name  taux_accep\n",
              "private                                    \n",
              "No       University of Virginia   33.970598\n",
              "Yes        Princeton University   15.448631"
            ]
          },
          "execution_count": 97,
          "metadata": {},
          "output_type": "execute_result"
        }
      ],
      "source": [
        "df21= pd.DataFrame()\n",
        "df21[\"private\"]=df.private\n",
        "df21[\"name\"]=df.Name\n",
        "df21[\"taux_accep\"]=df.accept/df.apps*100\n",
        "df22=df21.groupby(df21.private).taux_accep.min()\n",
        "df2=df21.merge(df22)\n",
        "df2=df2.groupby(df2.private).first()\n",
        "df2"
      ]
    },
    {
      "cell_type": "markdown",
      "metadata": {
        "id": "UxMK-KdgVdqb"
      },
      "source": [
        "7) Afficher dans un nouvel Dataframe (df3), le nom et le montant d'inscription le plus élevé pour chaque type d'université.\n",
        "\n",
        "* montant inscription = room_board + books + personal"
      ]
    },
    {
      "cell_type": "code",
      "execution_count": 98,
      "metadata": {
        "colab": {
          "base_uri": "https://localhost:8080/",
          "height": 143
        },
        "id": "N0xSxKKd0-MB",
        "outputId": "f6e3ec48-3713-4b71-d03f-8d0fca5a01ce"
      },
      "outputs": [
        {
          "data": {
            "text/html": [
              "<div>\n",
              "<style scoped>\n",
              "    .dataframe tbody tr th:only-of-type {\n",
              "        vertical-align: middle;\n",
              "    }\n",
              "\n",
              "    .dataframe tbody tr th {\n",
              "        vertical-align: top;\n",
              "    }\n",
              "\n",
              "    .dataframe thead th {\n",
              "        text-align: right;\n",
              "    }\n",
              "</style>\n",
              "<table border=\"1\" class=\"dataframe\">\n",
              "  <thead>\n",
              "    <tr style=\"text-align: right;\">\n",
              "      <th></th>\n",
              "      <th>Name</th>\n",
              "      <th>total</th>\n",
              "    </tr>\n",
              "    <tr>\n",
              "      <th>private</th>\n",
              "      <th></th>\n",
              "      <th></th>\n",
              "    </tr>\n",
              "  </thead>\n",
              "  <tbody>\n",
              "    <tr>\n",
              "      <th>No</th>\n",
              "      <td>University of Illinois at Chicago</td>\n",
              "      <td>8946</td>\n",
              "    </tr>\n",
              "    <tr>\n",
              "      <th>Yes</th>\n",
              "      <td>Saint Louis University</td>\n",
              "      <td>12330</td>\n",
              "    </tr>\n",
              "  </tbody>\n",
              "</table>\n",
              "</div>"
            ],
            "text/plain": [
              "                                      Name  total\n",
              "private                                          \n",
              "No       University of Illinois at Chicago   8946\n",
              "Yes                 Saint Louis University  12330"
            ]
          },
          "execution_count": 98,
          "metadata": {},
          "output_type": "execute_result"
        }
      ],
      "source": [
        "df31=pd.DataFrame()\n",
        "df31[\"Name\"]=df.Name\n",
        "df31[\"private\"]=df.private\n",
        "df31[\"total\"]=df.room_board+df.books+df.personal\n",
        "df32=df31.groupby(\"private\").total.max()\n",
        "df3=df31.merge(df32)\n",
        "df3.groupby(\"private\").first()"
      ]
    },
    {
      "cell_type": "markdown",
      "metadata": {
        "id": "nYF7EHO-CccM"
      },
      "source": [
        "8) Afficher dans un nouvel DataFrame (df4), pour chaque type d'université, le nom et les nombre le moins élevé des enseignants titulaires d'un diplome de doctorat (prof_phd) et ceux titulaire d'un diplome de master (prof_terminal)"
      ]
    },
    {
      "cell_type": "code",
      "execution_count": 99,
      "metadata": {},
      "outputs": [
        {
          "data": {
            "text/html": [
              "<div>\n",
              "<style scoped>\n",
              "    .dataframe tbody tr th:only-of-type {\n",
              "        vertical-align: middle;\n",
              "    }\n",
              "\n",
              "    .dataframe tbody tr th {\n",
              "        vertical-align: top;\n",
              "    }\n",
              "\n",
              "    .dataframe thead th {\n",
              "        text-align: right;\n",
              "    }\n",
              "</style>\n",
              "<table border=\"1\" class=\"dataframe\">\n",
              "  <thead>\n",
              "    <tr style=\"text-align: right;\">\n",
              "      <th></th>\n",
              "      <th></th>\n",
              "      <th>prof_phd</th>\n",
              "      <th>prof_terminal</th>\n",
              "    </tr>\n",
              "    <tr>\n",
              "      <th>private</th>\n",
              "      <th>Name</th>\n",
              "      <th></th>\n",
              "      <th></th>\n",
              "    </tr>\n",
              "  </thead>\n",
              "  <tbody>\n",
              "    <tr>\n",
              "      <th>No</th>\n",
              "      <th>West Liberty State College</th>\n",
              "      <td>33</td>\n",
              "      <td>33</td>\n",
              "    </tr>\n",
              "    <tr>\n",
              "      <th rowspan=\"2\" valign=\"top\">Yes</th>\n",
              "      <th>Center for Creative Studies</th>\n",
              "      <td>8</td>\n",
              "      <td>58</td>\n",
              "    </tr>\n",
              "    <tr>\n",
              "      <th>MidAmerica Nazarene College</th>\n",
              "      <td>33</td>\n",
              "      <td>33</td>\n",
              "    </tr>\n",
              "  </tbody>\n",
              "</table>\n",
              "</div>"
            ],
            "text/plain": [
              "                                     prof_phd  prof_terminal\n",
              "private Name                                                \n",
              "No      West Liberty State College         33             33\n",
              "Yes     Center for Creative Studies         8             58\n",
              "        MidAmerica Nazarene College        33             33"
            ]
          },
          "execution_count": 99,
          "metadata": {},
          "output_type": "execute_result"
        }
      ],
      "source": [
        "df41=pd.DataFrame()\n",
        "df41[\"private\"]=df[\"private\"]\n",
        "df41[\"Name\"]=df[\"Name\"]\n",
        "df41[\"prof_phd\"]=df.prof_phd\n",
        "df41[\"prof_terminal\"]=df.prof_terminal\n",
        "df42=df41.groupby(\"private\").prof_phd.min()\n",
        "df43=df41.merge(df42)\n",
        "df44=df41.groupby(\"private\").prof_terminal.min()\n",
        "df45=df43.merge(df44)\n",
        "df4=pd.concat([df43,df45],axis=0).groupby(['private','Name']).first()\n",
        "df4\n",
        "\n"
      ]
    },
    {
      "cell_type": "code",
      "execution_count": null,
      "metadata": {
        "colab": {
          "base_uri": "https://localhost:8080/",
          "height": 206
        },
        "id": "Xknnjk_yseW8",
        "outputId": "9318eda2-30b4-4584-f579-e42ceb453934"
      },
      "outputs": [],
      "source": []
    },
    {
      "cell_type": "markdown",
      "metadata": {
        "id": "GgOxi3ybCczz"
      },
      "source": [
        "9) Afficher dans un nouvel DataFrame(df5), pour chaque type d'université, le nom et le taux etudiant/prof (std_by_prof) le plus elevé "
      ]
    },
    {
      "cell_type": "code",
      "execution_count": 100,
      "metadata": {
        "colab": {
          "base_uri": "https://localhost:8080/",
          "height": 143
        },
        "id": "yN2yOsctvUAb",
        "outputId": "9cb0b692-4e90-418d-f288-56eed5b82f58"
      },
      "outputs": [
        {
          "data": {
            "text/html": [
              "<div>\n",
              "<style scoped>\n",
              "    .dataframe tbody tr th:only-of-type {\n",
              "        vertical-align: middle;\n",
              "    }\n",
              "\n",
              "    .dataframe tbody tr th {\n",
              "        vertical-align: top;\n",
              "    }\n",
              "\n",
              "    .dataframe thead th {\n",
              "        text-align: right;\n",
              "    }\n",
              "</style>\n",
              "<table border=\"1\" class=\"dataframe\">\n",
              "  <thead>\n",
              "    <tr style=\"text-align: right;\">\n",
              "      <th></th>\n",
              "      <th>Name</th>\n",
              "      <th>std_by_prof</th>\n",
              "    </tr>\n",
              "    <tr>\n",
              "      <th>private</th>\n",
              "      <th></th>\n",
              "      <th></th>\n",
              "    </tr>\n",
              "  </thead>\n",
              "  <tbody>\n",
              "    <tr>\n",
              "      <th>No</th>\n",
              "      <td>Mesa State College</td>\n",
              "      <td>28.8</td>\n",
              "    </tr>\n",
              "    <tr>\n",
              "      <th>Yes</th>\n",
              "      <td>Indiana Wesleyan University</td>\n",
              "      <td>39.8</td>\n",
              "    </tr>\n",
              "  </tbody>\n",
              "</table>\n",
              "</div>"
            ],
            "text/plain": [
              "                                Name  std_by_prof\n",
              "private                                          \n",
              "No                Mesa State College         28.8\n",
              "Yes      Indiana Wesleyan University         39.8"
            ]
          },
          "execution_count": 100,
          "metadata": {},
          "output_type": "execute_result"
        }
      ],
      "source": [
        "df51=df.filter(items=[\"private\",\"Name\",\"std_by_prof\"])\n",
        "df52=df51.groupby(\"private\").std_by_prof.max()\n",
        "df5=df51.merge(df52)\n",
        "df5.groupby(\"private\").first()"
      ]
    },
    {
      "cell_type": "markdown",
      "metadata": {
        "id": "runTPabBz0VT"
      },
      "source": [
        "10) Afficher dans un nouvel Dataframe(df6), pour chaque type d'université, les noms et les taux de réussite (Name, grad_rate) des 3 universités qui ont le taux de réussite le moins élevé"
      ]
    },
    {
      "cell_type": "code",
      "execution_count": 101,
      "metadata": {
        "colab": {
          "base_uri": "https://localhost:8080/",
          "height": 269
        },
        "id": "_AX49JfzBHyp",
        "outputId": "6f947bc7-9d5e-4dfb-fac2-ea444553e3a2"
      },
      "outputs": [
        {
          "data": {
            "text/html": [
              "<div>\n",
              "<style scoped>\n",
              "    .dataframe tbody tr th:only-of-type {\n",
              "        vertical-align: middle;\n",
              "    }\n",
              "\n",
              "    .dataframe tbody tr th {\n",
              "        vertical-align: top;\n",
              "    }\n",
              "\n",
              "    .dataframe thead th {\n",
              "        text-align: right;\n",
              "    }\n",
              "</style>\n",
              "<table border=\"1\" class=\"dataframe\">\n",
              "  <thead>\n",
              "    <tr style=\"text-align: right;\">\n",
              "      <th></th>\n",
              "      <th></th>\n",
              "      <th>grad_rate</th>\n",
              "    </tr>\n",
              "    <tr>\n",
              "      <th>private</th>\n",
              "      <th>Name</th>\n",
              "      <th></th>\n",
              "    </tr>\n",
              "  </thead>\n",
              "  <tbody>\n",
              "    <tr>\n",
              "      <th rowspan=\"4\" valign=\"top\">No</th>\n",
              "      <th>Fayetteville State University</th>\n",
              "      <td>24</td>\n",
              "    </tr>\n",
              "    <tr>\n",
              "      <th>Jersey City State College</th>\n",
              "      <td>26</td>\n",
              "    </tr>\n",
              "    <tr>\n",
              "      <th>Lamar University</th>\n",
              "      <td>26</td>\n",
              "    </tr>\n",
              "    <tr>\n",
              "      <th>Texas Southern University</th>\n",
              "      <td>10</td>\n",
              "    </tr>\n",
              "    <tr>\n",
              "      <th rowspan=\"4\" valign=\"top\">Yes</th>\n",
              "      <th>Alaska Pacific University</th>\n",
              "      <td>15</td>\n",
              "    </tr>\n",
              "    <tr>\n",
              "      <th>Brewton-Parker College</th>\n",
              "      <td>18</td>\n",
              "    </tr>\n",
              "    <tr>\n",
              "      <th>Centenary College</th>\n",
              "      <td>24</td>\n",
              "    </tr>\n",
              "    <tr>\n",
              "      <th>Montreat-Anderson College</th>\n",
              "      <td>15</td>\n",
              "    </tr>\n",
              "  </tbody>\n",
              "</table>\n",
              "</div>"
            ],
            "text/plain": [
              "                                       grad_rate\n",
              "private Name                                    \n",
              "No      Fayetteville State University         24\n",
              "        Jersey City State College             26\n",
              "        Lamar University                      26\n",
              "        Texas Southern University             10\n",
              "Yes     Alaska Pacific University             15\n",
              "        Brewton-Parker College                18\n",
              "        Centenary College                     24\n",
              "        Montreat-Anderson College             15"
            ]
          },
          "execution_count": 101,
          "metadata": {},
          "output_type": "execute_result"
        }
      ],
      "source": [
        "df51=pd.DataFrame()\n",
        "df51=df.filter(items=[\"private\",\"Name\",\"grad_rate\"])\n",
        "df51=df51.sort_values(\"grad_rate\")\n",
        "df52=df51.groupby(\"private\").grad_rate.head(3)\n",
        "df5=df51.merge(df52)\n",
        "df5.groupby([\"private\",\"Name\"]).first()"
      ]
    },
    {
      "cell_type": "code",
      "execution_count": null,
      "metadata": {},
      "outputs": [],
      "source": []
    }
  ],
  "metadata": {
    "colab": {
      "collapsed_sections": [],
      "provenance": []
    },
    "kernelspec": {
      "display_name": "Python 3.10.8 64-bit",
      "language": "python",
      "name": "python3"
    },
    "language_info": {
      "codemirror_mode": {
        "name": "ipython",
        "version": 3
      },
      "file_extension": ".py",
      "mimetype": "text/x-python",
      "name": "python",
      "nbconvert_exporter": "python",
      "pygments_lexer": "ipython3",
      "version": "3.10.8"
    },
    "vscode": {
      "interpreter": {
        "hash": "02f233c1bb37aa2433c299d2e4f8365f47568f469376a90e5e6d4408f23a3bd4"
      }
    }
  },
  "nbformat": 4,
  "nbformat_minor": 0
}
