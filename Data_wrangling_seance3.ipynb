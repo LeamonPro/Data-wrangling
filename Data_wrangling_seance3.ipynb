{
  "cells": [
    {
      "cell_type": "markdown",
      "metadata": {
        "id": "B3UmaC4ONOH5"
      },
      "source": [
        "1) importation de la bibliothèque pandas"
      ]
    },
    {
      "cell_type": "code",
      "execution_count": 47,
      "metadata": {
        "id": "eKF-btOKMqLp"
      },
      "outputs": [],
      "source": [
        "import pandas as pd"
      ]
    },
    {
      "cell_type": "markdown",
      "metadata": {
        "id": "2Tcsb04CNYeV"
      },
      "source": [
        "2) Charger le fichier \"country.csv\" et afficher le dataframe "
      ]
    },
    {
      "cell_type": "code",
      "execution_count": 48,
      "metadata": {
        "id": "On2aSgq3Nr2a"
      },
      "outputs": [
        {
          "data": {
            "text/html": [
              "<div>\n",
              "<style scoped>\n",
              "    .dataframe tbody tr th:only-of-type {\n",
              "        vertical-align: middle;\n",
              "    }\n",
              "\n",
              "    .dataframe tbody tr th {\n",
              "        vertical-align: top;\n",
              "    }\n",
              "\n",
              "    .dataframe thead th {\n",
              "        text-align: right;\n",
              "    }\n",
              "</style>\n",
              "<table border=\"1\" class=\"dataframe\">\n",
              "  <thead>\n",
              "    <tr style=\"text-align: right;\">\n",
              "      <th></th>\n",
              "      <th>country</th>\n",
              "      <th>year</th>\n",
              "      <th>pop</th>\n",
              "      <th>continent</th>\n",
              "      <th>lifeExp</th>\n",
              "      <th>gdpPercap</th>\n",
              "    </tr>\n",
              "  </thead>\n",
              "  <tbody>\n",
              "    <tr>\n",
              "      <th>0</th>\n",
              "      <td>Afghanistan</td>\n",
              "      <td>1952</td>\n",
              "      <td>8425333.0</td>\n",
              "      <td>Asia</td>\n",
              "      <td>28.801</td>\n",
              "      <td>779.445314</td>\n",
              "    </tr>\n",
              "    <tr>\n",
              "      <th>1</th>\n",
              "      <td>Afghanistan</td>\n",
              "      <td>1957</td>\n",
              "      <td>9240934.0</td>\n",
              "      <td>Asia</td>\n",
              "      <td>30.332</td>\n",
              "      <td>820.853030</td>\n",
              "    </tr>\n",
              "    <tr>\n",
              "      <th>2</th>\n",
              "      <td>Afghanistan</td>\n",
              "      <td>1962</td>\n",
              "      <td>10267083.0</td>\n",
              "      <td>Asia</td>\n",
              "      <td>31.997</td>\n",
              "      <td>853.100710</td>\n",
              "    </tr>\n",
              "    <tr>\n",
              "      <th>3</th>\n",
              "      <td>Afghanistan</td>\n",
              "      <td>1967</td>\n",
              "      <td>11537966.0</td>\n",
              "      <td>Asia</td>\n",
              "      <td>34.020</td>\n",
              "      <td>836.197138</td>\n",
              "    </tr>\n",
              "    <tr>\n",
              "      <th>4</th>\n",
              "      <td>Afghanistan</td>\n",
              "      <td>1972</td>\n",
              "      <td>13079460.0</td>\n",
              "      <td>Asia</td>\n",
              "      <td>36.088</td>\n",
              "      <td>739.981106</td>\n",
              "    </tr>\n",
              "    <tr>\n",
              "      <th>...</th>\n",
              "      <td>...</td>\n",
              "      <td>...</td>\n",
              "      <td>...</td>\n",
              "      <td>...</td>\n",
              "      <td>...</td>\n",
              "      <td>...</td>\n",
              "    </tr>\n",
              "    <tr>\n",
              "      <th>1699</th>\n",
              "      <td>Zimbabwe</td>\n",
              "      <td>1987</td>\n",
              "      <td>9216418.0</td>\n",
              "      <td>Africa</td>\n",
              "      <td>62.351</td>\n",
              "      <td>706.157306</td>\n",
              "    </tr>\n",
              "    <tr>\n",
              "      <th>1700</th>\n",
              "      <td>Zimbabwe</td>\n",
              "      <td>1992</td>\n",
              "      <td>10704340.0</td>\n",
              "      <td>Africa</td>\n",
              "      <td>60.377</td>\n",
              "      <td>693.420786</td>\n",
              "    </tr>\n",
              "    <tr>\n",
              "      <th>1701</th>\n",
              "      <td>Zimbabwe</td>\n",
              "      <td>1997</td>\n",
              "      <td>11404948.0</td>\n",
              "      <td>Africa</td>\n",
              "      <td>46.809</td>\n",
              "      <td>792.449960</td>\n",
              "    </tr>\n",
              "    <tr>\n",
              "      <th>1702</th>\n",
              "      <td>Zimbabwe</td>\n",
              "      <td>2002</td>\n",
              "      <td>11926563.0</td>\n",
              "      <td>Africa</td>\n",
              "      <td>39.989</td>\n",
              "      <td>672.038623</td>\n",
              "    </tr>\n",
              "    <tr>\n",
              "      <th>1703</th>\n",
              "      <td>Zimbabwe</td>\n",
              "      <td>2007</td>\n",
              "      <td>12311143.0</td>\n",
              "      <td>Africa</td>\n",
              "      <td>43.487</td>\n",
              "      <td>469.709298</td>\n",
              "    </tr>\n",
              "  </tbody>\n",
              "</table>\n",
              "<p>1704 rows × 6 columns</p>\n",
              "</div>"
            ],
            "text/plain": [
              "          country  year         pop continent  lifeExp   gdpPercap\n",
              "0     Afghanistan  1952   8425333.0      Asia   28.801  779.445314\n",
              "1     Afghanistan  1957   9240934.0      Asia   30.332  820.853030\n",
              "2     Afghanistan  1962  10267083.0      Asia   31.997  853.100710\n",
              "3     Afghanistan  1967  11537966.0      Asia   34.020  836.197138\n",
              "4     Afghanistan  1972  13079460.0      Asia   36.088  739.981106\n",
              "...           ...   ...         ...       ...      ...         ...\n",
              "1699     Zimbabwe  1987   9216418.0    Africa   62.351  706.157306\n",
              "1700     Zimbabwe  1992  10704340.0    Africa   60.377  693.420786\n",
              "1701     Zimbabwe  1997  11404948.0    Africa   46.809  792.449960\n",
              "1702     Zimbabwe  2002  11926563.0    Africa   39.989  672.038623\n",
              "1703     Zimbabwe  2007  12311143.0    Africa   43.487  469.709298\n",
              "\n",
              "[1704 rows x 6 columns]"
            ]
          },
          "execution_count": 48,
          "metadata": {},
          "output_type": "execute_result"
        }
      ],
      "source": [
        "df=pd.read_csv(\"country.csv\")\n",
        "df"
      ]
    },
    {
      "cell_type": "markdown",
      "metadata": {
        "id": "D-cvdlSXNwGD"
      },
      "source": [
        "3) Vérifier l'existence de valeurs nulls dans le dataframe"
      ]
    },
    {
      "cell_type": "code",
      "execution_count": 49,
      "metadata": {
        "id": "9eYKWyh8NzRZ"
      },
      "outputs": [
        {
          "data": {
            "text/plain": [
              "country      0\n",
              "year         0\n",
              "pop          0\n",
              "continent    0\n",
              "lifeExp      0\n",
              "gdpPercap    0\n",
              "dtype: int64"
            ]
          },
          "execution_count": 49,
          "metadata": {},
          "output_type": "execute_result"
        }
      ],
      "source": [
        "df.isna().sum()"
      ]
    },
    {
      "cell_type": "markdown",
      "metadata": {
        "id": "xY-73AW4OfS8"
      },
      "source": [
        "4)\n",
        "* Renommer les colonnes (pop, lifeExp, gdpPercap) par (Population, Age, PIB)\n",
        "* Afficher le dataframe"
      ]
    },
    {
      "cell_type": "code",
      "execution_count": 50,
      "metadata": {
        "id": "Y6V69GibPd_H"
      },
      "outputs": [
        {
          "data": {
            "text/html": [
              "<div>\n",
              "<style scoped>\n",
              "    .dataframe tbody tr th:only-of-type {\n",
              "        vertical-align: middle;\n",
              "    }\n",
              "\n",
              "    .dataframe tbody tr th {\n",
              "        vertical-align: top;\n",
              "    }\n",
              "\n",
              "    .dataframe thead th {\n",
              "        text-align: right;\n",
              "    }\n",
              "</style>\n",
              "<table border=\"1\" class=\"dataframe\">\n",
              "  <thead>\n",
              "    <tr style=\"text-align: right;\">\n",
              "      <th></th>\n",
              "      <th>country</th>\n",
              "      <th>year</th>\n",
              "      <th>Population</th>\n",
              "      <th>continent</th>\n",
              "      <th>Age</th>\n",
              "      <th>PIB</th>\n",
              "    </tr>\n",
              "  </thead>\n",
              "  <tbody>\n",
              "    <tr>\n",
              "      <th>0</th>\n",
              "      <td>Afghanistan</td>\n",
              "      <td>1952</td>\n",
              "      <td>8425333.0</td>\n",
              "      <td>Asia</td>\n",
              "      <td>28.801</td>\n",
              "      <td>779.445314</td>\n",
              "    </tr>\n",
              "    <tr>\n",
              "      <th>1</th>\n",
              "      <td>Afghanistan</td>\n",
              "      <td>1957</td>\n",
              "      <td>9240934.0</td>\n",
              "      <td>Asia</td>\n",
              "      <td>30.332</td>\n",
              "      <td>820.853030</td>\n",
              "    </tr>\n",
              "    <tr>\n",
              "      <th>2</th>\n",
              "      <td>Afghanistan</td>\n",
              "      <td>1962</td>\n",
              "      <td>10267083.0</td>\n",
              "      <td>Asia</td>\n",
              "      <td>31.997</td>\n",
              "      <td>853.100710</td>\n",
              "    </tr>\n",
              "    <tr>\n",
              "      <th>3</th>\n",
              "      <td>Afghanistan</td>\n",
              "      <td>1967</td>\n",
              "      <td>11537966.0</td>\n",
              "      <td>Asia</td>\n",
              "      <td>34.020</td>\n",
              "      <td>836.197138</td>\n",
              "    </tr>\n",
              "    <tr>\n",
              "      <th>4</th>\n",
              "      <td>Afghanistan</td>\n",
              "      <td>1972</td>\n",
              "      <td>13079460.0</td>\n",
              "      <td>Asia</td>\n",
              "      <td>36.088</td>\n",
              "      <td>739.981106</td>\n",
              "    </tr>\n",
              "    <tr>\n",
              "      <th>...</th>\n",
              "      <td>...</td>\n",
              "      <td>...</td>\n",
              "      <td>...</td>\n",
              "      <td>...</td>\n",
              "      <td>...</td>\n",
              "      <td>...</td>\n",
              "    </tr>\n",
              "    <tr>\n",
              "      <th>1699</th>\n",
              "      <td>Zimbabwe</td>\n",
              "      <td>1987</td>\n",
              "      <td>9216418.0</td>\n",
              "      <td>Africa</td>\n",
              "      <td>62.351</td>\n",
              "      <td>706.157306</td>\n",
              "    </tr>\n",
              "    <tr>\n",
              "      <th>1700</th>\n",
              "      <td>Zimbabwe</td>\n",
              "      <td>1992</td>\n",
              "      <td>10704340.0</td>\n",
              "      <td>Africa</td>\n",
              "      <td>60.377</td>\n",
              "      <td>693.420786</td>\n",
              "    </tr>\n",
              "    <tr>\n",
              "      <th>1701</th>\n",
              "      <td>Zimbabwe</td>\n",
              "      <td>1997</td>\n",
              "      <td>11404948.0</td>\n",
              "      <td>Africa</td>\n",
              "      <td>46.809</td>\n",
              "      <td>792.449960</td>\n",
              "    </tr>\n",
              "    <tr>\n",
              "      <th>1702</th>\n",
              "      <td>Zimbabwe</td>\n",
              "      <td>2002</td>\n",
              "      <td>11926563.0</td>\n",
              "      <td>Africa</td>\n",
              "      <td>39.989</td>\n",
              "      <td>672.038623</td>\n",
              "    </tr>\n",
              "    <tr>\n",
              "      <th>1703</th>\n",
              "      <td>Zimbabwe</td>\n",
              "      <td>2007</td>\n",
              "      <td>12311143.0</td>\n",
              "      <td>Africa</td>\n",
              "      <td>43.487</td>\n",
              "      <td>469.709298</td>\n",
              "    </tr>\n",
              "  </tbody>\n",
              "</table>\n",
              "<p>1704 rows × 6 columns</p>\n",
              "</div>"
            ],
            "text/plain": [
              "          country  year  Population continent     Age         PIB\n",
              "0     Afghanistan  1952   8425333.0      Asia  28.801  779.445314\n",
              "1     Afghanistan  1957   9240934.0      Asia  30.332  820.853030\n",
              "2     Afghanistan  1962  10267083.0      Asia  31.997  853.100710\n",
              "3     Afghanistan  1967  11537966.0      Asia  34.020  836.197138\n",
              "4     Afghanistan  1972  13079460.0      Asia  36.088  739.981106\n",
              "...           ...   ...         ...       ...     ...         ...\n",
              "1699     Zimbabwe  1987   9216418.0    Africa  62.351  706.157306\n",
              "1700     Zimbabwe  1992  10704340.0    Africa  60.377  693.420786\n",
              "1701     Zimbabwe  1997  11404948.0    Africa  46.809  792.449960\n",
              "1702     Zimbabwe  2002  11926563.0    Africa  39.989  672.038623\n",
              "1703     Zimbabwe  2007  12311143.0    Africa  43.487  469.709298\n",
              "\n",
              "[1704 rows x 6 columns]"
            ]
          },
          "execution_count": 50,
          "metadata": {},
          "output_type": "execute_result"
        }
      ],
      "source": [
        "df.rename(columns = {'pop':'Population','lifeExp':'Age','gdpPercap':'PIB'}, inplace = True)\n",
        "df"
      ]
    },
    {
      "cell_type": "markdown",
      "metadata": {
        "id": "z-OSnO8lQgbq"
      },
      "source": [
        "5) Afficher le nombre de pays pour chaque continent"
      ]
    },
    {
      "cell_type": "code",
      "execution_count": 51,
      "metadata": {
        "id": "johNliYMOM4J"
      },
      "outputs": [
        {
          "data": {
            "text/plain": [
              "continent\n",
              "Africa      52\n",
              "Americas    25\n",
              "Asia        33\n",
              "Europe      30\n",
              "Oceania      2\n",
              "Name: country, dtype: int64"
            ]
          },
          "execution_count": 51,
          "metadata": {},
          "output_type": "execute_result"
        }
      ],
      "source": [
        "df.groupby('continent').country.nunique()"
      ]
    },
    {
      "cell_type": "markdown",
      "metadata": {
        "id": "HVNHwYzgRUX_"
      },
      "source": [
        "6) Pour chaque contient, vérifier l'existence de valeurs abbérantes pour la variable Age"
      ]
    },
    {
      "cell_type": "code",
      "execution_count": 52,
      "metadata": {
        "id": "XUJdbylbRTTI"
      },
      "outputs": [
        {
          "data": {
            "text/plain": [
              "<AxesSubplot: title={'center': 'Age'}, xlabel='continent'>"
            ]
          },
          "execution_count": 52,
          "metadata": {},
          "output_type": "execute_result"
        },
        {
          "data": {
            "image/png": "[encoded data removed]",
            "text/plain": [
              "<Figure size 432x288 with 1 Axes>"
            ]
          },
          "metadata": {
            "needs_background": "light"
          },
          "output_type": "display_data"
        }
      ],
      "source": [
        "df.boxplot(column='Age',by='continent')"
      ]
    },
    {
      "cell_type": "markdown",
      "metadata": {
        "id": "zK8PyppYadBL"
      },
      "source": [
        "7) Pour le contient Africa, afficher le dataframe (df1) contenant les pays dont la variable Age est une valeur abbérante.  "
      ]
    },
    {
      "cell_type": "code",
      "execution_count": 53,
      "metadata": {
        "id": "8Rw30YySXib6"
      },
      "outputs": [
        {
          "data": {
            "text/html": [
              "<div>\n",
              "<style scoped>\n",
              "    .dataframe tbody tr th:only-of-type {\n",
              "        vertical-align: middle;\n",
              "    }\n",
              "\n",
              "    .dataframe tbody tr th {\n",
              "        vertical-align: top;\n",
              "    }\n",
              "\n",
              "    .dataframe thead th {\n",
              "        text-align: right;\n",
              "    }\n",
              "</style>\n",
              "<table border=\"1\" class=\"dataframe\">\n",
              "  <thead>\n",
              "    <tr style=\"text-align: right;\">\n",
              "      <th></th>\n",
              "      <th>country</th>\n",
              "      <th>year</th>\n",
              "      <th>Population</th>\n",
              "      <th>continent</th>\n",
              "      <th>Age</th>\n",
              "      <th>PIB</th>\n",
              "    </tr>\n",
              "  </thead>\n",
              "  <tbody>\n",
              "    <tr>\n",
              "      <th>24</th>\n",
              "      <td>Algeria</td>\n",
              "      <td>1952</td>\n",
              "      <td>9279525.0</td>\n",
              "      <td>Africa</td>\n",
              "      <td>43.077</td>\n",
              "      <td>2449.008185</td>\n",
              "    </tr>\n",
              "    <tr>\n",
              "      <th>25</th>\n",
              "      <td>Algeria</td>\n",
              "      <td>1957</td>\n",
              "      <td>10270856.0</td>\n",
              "      <td>Africa</td>\n",
              "      <td>45.685</td>\n",
              "      <td>3013.976023</td>\n",
              "    </tr>\n",
              "    <tr>\n",
              "      <th>26</th>\n",
              "      <td>Algeria</td>\n",
              "      <td>1962</td>\n",
              "      <td>11000948.0</td>\n",
              "      <td>Africa</td>\n",
              "      <td>48.303</td>\n",
              "      <td>2550.816880</td>\n",
              "    </tr>\n",
              "    <tr>\n",
              "      <th>27</th>\n",
              "      <td>Algeria</td>\n",
              "      <td>1967</td>\n",
              "      <td>12760499.0</td>\n",
              "      <td>Africa</td>\n",
              "      <td>51.407</td>\n",
              "      <td>3246.991771</td>\n",
              "    </tr>\n",
              "    <tr>\n",
              "      <th>28</th>\n",
              "      <td>Algeria</td>\n",
              "      <td>1972</td>\n",
              "      <td>14760787.0</td>\n",
              "      <td>Africa</td>\n",
              "      <td>54.518</td>\n",
              "      <td>4182.663766</td>\n",
              "    </tr>\n",
              "    <tr>\n",
              "      <th>...</th>\n",
              "      <td>...</td>\n",
              "      <td>...</td>\n",
              "      <td>...</td>\n",
              "      <td>...</td>\n",
              "      <td>...</td>\n",
              "      <td>...</td>\n",
              "    </tr>\n",
              "    <tr>\n",
              "      <th>1699</th>\n",
              "      <td>Zimbabwe</td>\n",
              "      <td>1987</td>\n",
              "      <td>9216418.0</td>\n",
              "      <td>Africa</td>\n",
              "      <td>62.351</td>\n",
              "      <td>706.157306</td>\n",
              "    </tr>\n",
              "    <tr>\n",
              "      <th>1700</th>\n",
              "      <td>Zimbabwe</td>\n",
              "      <td>1992</td>\n",
              "      <td>10704340.0</td>\n",
              "      <td>Africa</td>\n",
              "      <td>60.377</td>\n",
              "      <td>693.420786</td>\n",
              "    </tr>\n",
              "    <tr>\n",
              "      <th>1701</th>\n",
              "      <td>Zimbabwe</td>\n",
              "      <td>1997</td>\n",
              "      <td>11404948.0</td>\n",
              "      <td>Africa</td>\n",
              "      <td>46.809</td>\n",
              "      <td>792.449960</td>\n",
              "    </tr>\n",
              "    <tr>\n",
              "      <th>1702</th>\n",
              "      <td>Zimbabwe</td>\n",
              "      <td>2002</td>\n",
              "      <td>11926563.0</td>\n",
              "      <td>Africa</td>\n",
              "      <td>39.989</td>\n",
              "      <td>672.038623</td>\n",
              "    </tr>\n",
              "    <tr>\n",
              "      <th>1703</th>\n",
              "      <td>Zimbabwe</td>\n",
              "      <td>2007</td>\n",
              "      <td>12311143.0</td>\n",
              "      <td>Africa</td>\n",
              "      <td>43.487</td>\n",
              "      <td>469.709298</td>\n",
              "    </tr>\n",
              "  </tbody>\n",
              "</table>\n",
              "<p>624 rows × 6 columns</p>\n",
              "</div>"
            ],
            "text/plain": [
              "       country  year  Population continent     Age          PIB\n",
              "24     Algeria  1952   9279525.0    Africa  43.077  2449.008185\n",
              "25     Algeria  1957  10270856.0    Africa  45.685  3013.976023\n",
              "26     Algeria  1962  11000948.0    Africa  48.303  2550.816880\n",
              "27     Algeria  1967  12760499.0    Africa  51.407  3246.991771\n",
              "28     Algeria  1972  14760787.0    Africa  54.518  4182.663766\n",
              "...        ...   ...         ...       ...     ...          ...\n",
              "1699  Zimbabwe  1987   9216418.0    Africa  62.351   706.157306\n",
              "1700  Zimbabwe  1992  10704340.0    Africa  60.377   693.420786\n",
              "1701  Zimbabwe  1997  11404948.0    Africa  46.809   792.449960\n",
              "1702  Zimbabwe  2002  11926563.0    Africa  39.989   672.038623\n",
              "1703  Zimbabwe  2007  12311143.0    Africa  43.487   469.709298\n",
              "\n",
              "[624 rows x 6 columns]"
            ]
          },
          "execution_count": 53,
          "metadata": {},
          "output_type": "execute_result"
        }
      ],
      "source": [
        "df1 = df[df.continent=='Africa']\n",
        "df1"
      ]
    },
    {
      "cell_type": "code",
      "execution_count": 54,
      "metadata": {},
      "outputs": [
        {
          "data": {
            "text/html": [
              "<div>\n",
              "<style scoped>\n",
              "    .dataframe tbody tr th:only-of-type {\n",
              "        vertical-align: middle;\n",
              "    }\n",
              "\n",
              "    .dataframe tbody tr th {\n",
              "        vertical-align: top;\n",
              "    }\n",
              "\n",
              "    .dataframe thead th {\n",
              "        text-align: right;\n",
              "    }\n",
              "</style>\n",
              "<table border=\"1\" class=\"dataframe\">\n",
              "  <thead>\n",
              "    <tr style=\"text-align: right;\">\n",
              "      <th></th>\n",
              "      <th>country</th>\n",
              "      <th>year</th>\n",
              "      <th>Population</th>\n",
              "      <th>continent</th>\n",
              "      <th>Age</th>\n",
              "      <th>PIB</th>\n",
              "    </tr>\n",
              "  </thead>\n",
              "  <tbody>\n",
              "    <tr>\n",
              "      <th>910</th>\n",
              "      <td>Libya</td>\n",
              "      <td>2002</td>\n",
              "      <td>5368585.0</td>\n",
              "      <td>Africa</td>\n",
              "      <td>72.737</td>\n",
              "      <td>9534.677467</td>\n",
              "    </tr>\n",
              "    <tr>\n",
              "      <th>911</th>\n",
              "      <td>Libya</td>\n",
              "      <td>2007</td>\n",
              "      <td>6036914.0</td>\n",
              "      <td>Africa</td>\n",
              "      <td>73.952</td>\n",
              "      <td>12057.499280</td>\n",
              "    </tr>\n",
              "    <tr>\n",
              "      <th>983</th>\n",
              "      <td>Mauritius</td>\n",
              "      <td>2007</td>\n",
              "      <td>1250882.0</td>\n",
              "      <td>Africa</td>\n",
              "      <td>72.801</td>\n",
              "      <td>10956.991120</td>\n",
              "    </tr>\n",
              "    <tr>\n",
              "      <th>1268</th>\n",
              "      <td>Reunion</td>\n",
              "      <td>1992</td>\n",
              "      <td>622191.0</td>\n",
              "      <td>Africa</td>\n",
              "      <td>73.615</td>\n",
              "      <td>6101.255823</td>\n",
              "    </tr>\n",
              "    <tr>\n",
              "      <th>1269</th>\n",
              "      <td>Reunion</td>\n",
              "      <td>1997</td>\n",
              "      <td>684810.0</td>\n",
              "      <td>Africa</td>\n",
              "      <td>74.772</td>\n",
              "      <td>6071.941411</td>\n",
              "    </tr>\n",
              "    <tr>\n",
              "      <th>1270</th>\n",
              "      <td>Reunion</td>\n",
              "      <td>2002</td>\n",
              "      <td>743981.0</td>\n",
              "      <td>Africa</td>\n",
              "      <td>75.744</td>\n",
              "      <td>6316.165200</td>\n",
              "    </tr>\n",
              "    <tr>\n",
              "      <th>1271</th>\n",
              "      <td>Reunion</td>\n",
              "      <td>2007</td>\n",
              "      <td>798094.0</td>\n",
              "      <td>Africa</td>\n",
              "      <td>76.442</td>\n",
              "      <td>7670.122558</td>\n",
              "    </tr>\n",
              "    <tr>\n",
              "      <th>1292</th>\n",
              "      <td>Rwanda</td>\n",
              "      <td>1992</td>\n",
              "      <td>7290203.0</td>\n",
              "      <td>Africa</td>\n",
              "      <td>23.599</td>\n",
              "      <td>737.068595</td>\n",
              "    </tr>\n",
              "    <tr>\n",
              "      <th>1570</th>\n",
              "      <td>Tunisia</td>\n",
              "      <td>2002</td>\n",
              "      <td>9770575.0</td>\n",
              "      <td>Africa</td>\n",
              "      <td>73.042</td>\n",
              "      <td>5722.895655</td>\n",
              "    </tr>\n",
              "    <tr>\n",
              "      <th>1571</th>\n",
              "      <td>Tunisia</td>\n",
              "      <td>2007</td>\n",
              "      <td>10276158.0</td>\n",
              "      <td>Africa</td>\n",
              "      <td>73.923</td>\n",
              "      <td>7092.923025</td>\n",
              "    </tr>\n",
              "  </tbody>\n",
              "</table>\n",
              "</div>"
            ],
            "text/plain": [
              "        country  year  Population continent     Age           PIB\n",
              "910       Libya  2002   5368585.0    Africa  72.737   9534.677467\n",
              "911       Libya  2007   6036914.0    Africa  73.952  12057.499280\n",
              "983   Mauritius  2007   1250882.0    Africa  72.801  10956.991120\n",
              "1268    Reunion  1992    622191.0    Africa  73.615   6101.255823\n",
              "1269    Reunion  1997    684810.0    Africa  74.772   6071.941411\n",
              "1270    Reunion  2002    743981.0    Africa  75.744   6316.165200\n",
              "1271    Reunion  2007    798094.0    Africa  76.442   7670.122558\n",
              "1292     Rwanda  1992   7290203.0    Africa  23.599    737.068595\n",
              "1570    Tunisia  2002   9770575.0    Africa  73.042   5722.895655\n",
              "1571    Tunisia  2007  10276158.0    Africa  73.923   7092.923025"
            ]
          },
          "execution_count": 54,
          "metadata": {},
          "output_type": "execute_result"
        }
      ],
      "source": [
        "\n",
        "def calculs(dataframe):\n",
        "  q1 = dataframe.quantile(q=0.25)\n",
        "  q2 = dataframe.quantile(q=0.5)\n",
        "  q3 = dataframe.quantile(q=0.75)\n",
        "  irq = q3 - q1\n",
        "  lower_limit = q1 - irq * 1.5\n",
        "  upper_limit = q3 + irq * 1.5  \n",
        "  return q1,q2,q3,lower_limit,upper_limit\n",
        "q1,q2,q3,lower_limit,upper_limit = calculs(df1.Age)\n",
        "df1[(df1.Age<= lower_limit) | (df1.Age >=upper_limit)]"
      ]
    },
    {
      "cell_type": "markdown",
      "metadata": {
        "id": "M3oTQBFIeu0O"
      },
      "source": [
        "8) Pour l'année 2007, vérifier pour chaque continent l'existence de valeurs abbérantes pour la variable PIB."
      ]
    },
    {
      "cell_type": "code",
      "execution_count": 55,
      "metadata": {
        "id": "kRQdDAaYe0Pb"
      },
      "outputs": [
        {
          "data": {
            "text/plain": [
              "<AxesSubplot: title={'center': 'PIB'}, xlabel='continent'>"
            ]
          },
          "execution_count": 55,
          "metadata": {},
          "output_type": "execute_result"
        },
        {
          "data": {
            "image/png": "[encoded data removed]",
            "text/plain": [
              "<Figure size 432x288 with 1 Axes>"
            ]
          },
          "metadata": {
            "needs_background": "light"
          },
          "output_type": "display_data"
        }
      ],
      "source": [
        "df[df.year==2007].boxplot(column='PIB',by='continent')"
      ]
    },
    {
      "cell_type": "markdown",
      "metadata": {
        "id": "mo3jowa4gCw5"
      },
      "source": [
        "9) Afficher dans une nouvelle dataframe (df2), les pays du continent Africa ayant la variable PIB comme valeur abbérante en 2007"
      ]
    },
    {
      "cell_type": "code",
      "execution_count": 58,
      "metadata": {
        "id": "XqmoTK8hgPig"
      },
      "outputs": [
        {
          "data": {
            "text/html": [
              "<div>\n",
              "<style scoped>\n",
              "    .dataframe tbody tr th:only-of-type {\n",
              "        vertical-align: middle;\n",
              "    }\n",
              "\n",
              "    .dataframe tbody tr th {\n",
              "        vertical-align: top;\n",
              "    }\n",
              "\n",
              "    .dataframe thead th {\n",
              "        text-align: right;\n",
              "    }\n",
              "</style>\n",
              "<table border=\"1\" class=\"dataframe\">\n",
              "  <thead>\n",
              "    <tr style=\"text-align: right;\">\n",
              "      <th></th>\n",
              "      <th>country</th>\n",
              "      <th>year</th>\n",
              "      <th>Population</th>\n",
              "      <th>continent</th>\n",
              "      <th>Age</th>\n",
              "      <th>PIB</th>\n",
              "    </tr>\n",
              "  </thead>\n",
              "  <tbody>\n",
              "    <tr>\n",
              "      <th>167</th>\n",
              "      <td>Botswana</td>\n",
              "      <td>2007</td>\n",
              "      <td>1639131.0</td>\n",
              "      <td>Africa</td>\n",
              "      <td>50.728</td>\n",
              "      <td>12569.851770</td>\n",
              "    </tr>\n",
              "    <tr>\n",
              "      <th>491</th>\n",
              "      <td>Equatorial Guinea</td>\n",
              "      <td>2007</td>\n",
              "      <td>551201.0</td>\n",
              "      <td>Africa</td>\n",
              "      <td>51.579</td>\n",
              "      <td>12154.089750</td>\n",
              "    </tr>\n",
              "    <tr>\n",
              "      <th>551</th>\n",
              "      <td>Gabon</td>\n",
              "      <td>2007</td>\n",
              "      <td>1454867.0</td>\n",
              "      <td>Africa</td>\n",
              "      <td>56.735</td>\n",
              "      <td>13206.484520</td>\n",
              "    </tr>\n",
              "    <tr>\n",
              "      <th>911</th>\n",
              "      <td>Libya</td>\n",
              "      <td>2007</td>\n",
              "      <td>6036914.0</td>\n",
              "      <td>Africa</td>\n",
              "      <td>73.952</td>\n",
              "      <td>12057.499280</td>\n",
              "    </tr>\n",
              "    <tr>\n",
              "      <th>983</th>\n",
              "      <td>Mauritius</td>\n",
              "      <td>2007</td>\n",
              "      <td>1250882.0</td>\n",
              "      <td>Africa</td>\n",
              "      <td>72.801</td>\n",
              "      <td>10956.991120</td>\n",
              "    </tr>\n",
              "    <tr>\n",
              "      <th>1415</th>\n",
              "      <td>South Africa</td>\n",
              "      <td>2007</td>\n",
              "      <td>43997828.0</td>\n",
              "      <td>Africa</td>\n",
              "      <td>49.339</td>\n",
              "      <td>9269.657808</td>\n",
              "    </tr>\n",
              "  </tbody>\n",
              "</table>\n",
              "</div>"
            ],
            "text/plain": [
              "                country  year  Population continent     Age           PIB\n",
              "167            Botswana  2007   1639131.0    Africa  50.728  12569.851770\n",
              "491   Equatorial Guinea  2007    551201.0    Africa  51.579  12154.089750\n",
              "551               Gabon  2007   1454867.0    Africa  56.735  13206.484520\n",
              "911               Libya  2007   6036914.0    Africa  73.952  12057.499280\n",
              "983           Mauritius  2007   1250882.0    Africa  72.801  10956.991120\n",
              "1415       South Africa  2007  43997828.0    Africa  49.339   9269.657808"
            ]
          },
          "execution_count": 58,
          "metadata": {},
          "output_type": "execute_result"
        }
      ],
      "source": [
        "df3=df[df.year==2007][df[df.year==2007].continent=='Africa']\n",
        "q1,q2,q3,lower_limit,upper_limit =calculs(df3.PIB)\n",
        "df3[(df3.PIB<= lower_limit) | (df3.PIB >=upper_limit)]"
      ]
    },
    {
      "cell_type": "markdown",
      "metadata": {
        "id": "1G7bMvtWrrAq"
      },
      "source": [
        "10) \n",
        "* Dans une nouvelle DataFrame, garder seulement les colonnes ('continent', 'year', 'Population') et les années 1952 et 2007\n",
        "* Afficher la population totale de chaque continent pour les années 1952 et 2007"
      ]
    },
    {
      "cell_type": "code",
      "execution_count": 67,
      "metadata": {
        "id": "P549VZzsns-b"
      },
      "outputs": [
        {
          "data": {
            "text/html": [
              "<div>\n",
              "<style scoped>\n",
              "    .dataframe tbody tr th:only-of-type {\n",
              "        vertical-align: middle;\n",
              "    }\n",
              "\n",
              "    .dataframe tbody tr th {\n",
              "        vertical-align: top;\n",
              "    }\n",
              "\n",
              "    .dataframe thead th {\n",
              "        text-align: right;\n",
              "    }\n",
              "</style>\n",
              "<table border=\"1\" class=\"dataframe\">\n",
              "  <thead>\n",
              "    <tr style=\"text-align: right;\">\n",
              "      <th></th>\n",
              "      <th>year</th>\n",
              "      <th>Population</th>\n",
              "      <th>continent</th>\n",
              "    </tr>\n",
              "  </thead>\n",
              "  <tbody>\n",
              "    <tr>\n",
              "      <th>0</th>\n",
              "      <td>1952</td>\n",
              "      <td>8425333.0</td>\n",
              "      <td>Asia</td>\n",
              "    </tr>\n",
              "    <tr>\n",
              "      <th>11</th>\n",
              "      <td>2007</td>\n",
              "      <td>31889923.0</td>\n",
              "      <td>Asia</td>\n",
              "    </tr>\n",
              "    <tr>\n",
              "      <th>12</th>\n",
              "      <td>1952</td>\n",
              "      <td>1282697.0</td>\n",
              "      <td>Europe</td>\n",
              "    </tr>\n",
              "    <tr>\n",
              "      <th>23</th>\n",
              "      <td>2007</td>\n",
              "      <td>3600523.0</td>\n",
              "      <td>Europe</td>\n",
              "    </tr>\n",
              "    <tr>\n",
              "      <th>24</th>\n",
              "      <td>1952</td>\n",
              "      <td>9279525.0</td>\n",
              "      <td>Africa</td>\n",
              "    </tr>\n",
              "    <tr>\n",
              "      <th>...</th>\n",
              "      <td>...</td>\n",
              "      <td>...</td>\n",
              "      <td>...</td>\n",
              "    </tr>\n",
              "    <tr>\n",
              "      <th>1679</th>\n",
              "      <td>2007</td>\n",
              "      <td>22211743.0</td>\n",
              "      <td>Asia</td>\n",
              "    </tr>\n",
              "    <tr>\n",
              "      <th>1680</th>\n",
              "      <td>1952</td>\n",
              "      <td>2672000.0</td>\n",
              "      <td>Africa</td>\n",
              "    </tr>\n",
              "    <tr>\n",
              "      <th>1691</th>\n",
              "      <td>2007</td>\n",
              "      <td>11746035.0</td>\n",
              "      <td>Africa</td>\n",
              "    </tr>\n",
              "    <tr>\n",
              "      <th>1692</th>\n",
              "      <td>1952</td>\n",
              "      <td>3080907.0</td>\n",
              "      <td>Africa</td>\n",
              "    </tr>\n",
              "    <tr>\n",
              "      <th>1703</th>\n",
              "      <td>2007</td>\n",
              "      <td>12311143.0</td>\n",
              "      <td>Africa</td>\n",
              "    </tr>\n",
              "  </tbody>\n",
              "</table>\n",
              "<p>284 rows × 3 columns</p>\n",
              "</div>"
            ],
            "text/plain": [
              "      year  Population continent\n",
              "0     1952   8425333.0      Asia\n",
              "11    2007  31889923.0      Asia\n",
              "12    1952   1282697.0    Europe\n",
              "23    2007   3600523.0    Europe\n",
              "24    1952   9279525.0    Africa\n",
              "...    ...         ...       ...\n",
              "1679  2007  22211743.0      Asia\n",
              "1680  1952   2672000.0    Africa\n",
              "1691  2007  11746035.0    Africa\n",
              "1692  1952   3080907.0    Africa\n",
              "1703  2007  12311143.0    Africa\n",
              "\n",
              "[284 rows x 3 columns]"
            ]
          },
          "execution_count": 67,
          "metadata": {},
          "output_type": "execute_result"
        }
      ],
      "source": [
        "df4=df[(df.year==1952)| (df.year==2007)].iloc[:,1:4]\n",
        "df4"
      ]
    },
    {
      "cell_type": "code",
      "execution_count": 68,
      "metadata": {},
      "outputs": [
        {
          "data": {
            "text/plain": [
              "continent\n",
              "Africa      1.167180e+09\n",
              "Americas    1.244024e+09\n",
              "Asia        5.207311e+09\n",
              "Europe      1.004219e+09\n",
              "Oceania     3.523595e+07\n",
              "Name: Population, dtype: float64"
            ]
          },
          "execution_count": 68,
          "metadata": {},
          "output_type": "execute_result"
        }
      ],
      "source": [
        "df4.groupby('continent').Population.sum()"
      ]
    },
    {
      "cell_type": "markdown",
      "metadata": {
        "id": "rDGMAwtbh8YS"
      },
      "source": [
        "10) Afficher sous forme de barres verticales (histogrammes) la population totale de chaque continent pour les année 1952 et 2007"
      ]
    },
    {
      "cell_type": "code",
      "execution_count": 69,
      "metadata": {
        "id": "iX52FYe1iVlG"
      },
      "outputs": [
        {
          "data": {
            "text/plain": [
              "<AxesSubplot: xlabel='continent'>"
            ]
          },
          "execution_count": 69,
          "metadata": {},
          "output_type": "execute_result"
        },
        {
          "data": {
            "image/png": "[encoded data removed]",
            "text/plain": [
              "<Figure size 432x288 with 1 Axes>"
            ]
          },
          "metadata": {
            "needs_background": "light"
          },
          "output_type": "display_data"
        }
      ],
      "source": [
        "df5=df4.pivot_table(index=\"continent\",columns=\"year\",values=\"Population\")\n",
        "df5.plot.bar()"
      ]
    },
    {
      "cell_type": "markdown",
      "metadata": {
        "id": "XgbIFjxwxjlb"
      },
      "source": [
        "11) Afficher pour chaque continent, le pays qui la plus grande valeur de PIB en 2007"
      ]
    },
    {
      "cell_type": "code",
      "execution_count": 72,
      "metadata": {
        "id": "PpVwCRfnmzkD"
      },
      "outputs": [
        {
          "data": {
            "text/html": [
              "<div>\n",
              "<style scoped>\n",
              "    .dataframe tbody tr th:only-of-type {\n",
              "        vertical-align: middle;\n",
              "    }\n",
              "\n",
              "    .dataframe tbody tr th {\n",
              "        vertical-align: top;\n",
              "    }\n",
              "\n",
              "    .dataframe thead th {\n",
              "        text-align: right;\n",
              "    }\n",
              "</style>\n",
              "<table border=\"1\" class=\"dataframe\">\n",
              "  <thead>\n",
              "    <tr style=\"text-align: right;\">\n",
              "      <th></th>\n",
              "      <th>country</th>\n",
              "      <th>year</th>\n",
              "      <th>Population</th>\n",
              "      <th>continent</th>\n",
              "      <th>Age</th>\n",
              "      <th>PIB</th>\n",
              "    </tr>\n",
              "  </thead>\n",
              "  <tbody>\n",
              "    <tr>\n",
              "      <th>0</th>\n",
              "      <td>Australia</td>\n",
              "      <td>2007</td>\n",
              "      <td>20434176.0</td>\n",
              "      <td>Oceania</td>\n",
              "      <td>81.235</td>\n",
              "      <td>34435.36744</td>\n",
              "    </tr>\n",
              "    <tr>\n",
              "      <th>1</th>\n",
              "      <td>Gabon</td>\n",
              "      <td>2007</td>\n",
              "      <td>1454867.0</td>\n",
              "      <td>Africa</td>\n",
              "      <td>56.735</td>\n",
              "      <td>13206.48452</td>\n",
              "    </tr>\n",
              "    <tr>\n",
              "      <th>2</th>\n",
              "      <td>Kuwait</td>\n",
              "      <td>2007</td>\n",
              "      <td>2505559.0</td>\n",
              "      <td>Asia</td>\n",
              "      <td>77.588</td>\n",
              "      <td>47306.98978</td>\n",
              "    </tr>\n",
              "    <tr>\n",
              "      <th>3</th>\n",
              "      <td>Norway</td>\n",
              "      <td>2007</td>\n",
              "      <td>4627926.0</td>\n",
              "      <td>Europe</td>\n",
              "      <td>80.196</td>\n",
              "      <td>49357.19017</td>\n",
              "    </tr>\n",
              "    <tr>\n",
              "      <th>4</th>\n",
              "      <td>United States</td>\n",
              "      <td>2007</td>\n",
              "      <td>301139947.0</td>\n",
              "      <td>Americas</td>\n",
              "      <td>78.242</td>\n",
              "      <td>42951.65309</td>\n",
              "    </tr>\n",
              "  </tbody>\n",
              "</table>\n",
              "</div>"
            ],
            "text/plain": [
              "         country  year   Population continent     Age          PIB\n",
              "0      Australia  2007   20434176.0   Oceania  81.235  34435.36744\n",
              "1          Gabon  2007    1454867.0    Africa  56.735  13206.48452\n",
              "2         Kuwait  2007    2505559.0      Asia  77.588  47306.98978\n",
              "3         Norway  2007    4627926.0    Europe  80.196  49357.19017\n",
              "4  United States  2007  301139947.0  Americas  78.242  42951.65309"
            ]
          },
          "execution_count": 72,
          "metadata": {},
          "output_type": "execute_result"
        }
      ],
      "source": [
        "df6=df[df.year==2007]\n",
        "df7 = df6.groupby([\"continent\"])[\"PIB\"].max()\n",
        "df.merge(df7)"
      ]
    },
    {
      "cell_type": "code",
      "execution_count": null,
      "metadata": {},
      "outputs": [],
      "source": []
    }
  ],
  "metadata": {
    "colab": {
      "collapsed_sections": [],
      "provenance": []
    },
    "kernelspec": {
      "display_name": "Python 3.10.8 64-bit",
      "language": "python",
      "name": "python3"
    },
    "language_info": {
      "codemirror_mode": {
        "name": "ipython",
        "version": 3
      },
      "file_extension": ".py",
      "mimetype": "text/x-python",
      "name": "python",
      "nbconvert_exporter": "python",
      "pygments_lexer": "ipython3",
      "version": "3.10.8"
    },
    "vscode": {
      "interpreter": {
        "hash": "02f233c1bb37aa2433c299d2e4f8365f47568f469376a90e5e6d4408f23a3bd4"
      }
    }
  },
  "nbformat": 4,
  "nbformat_minor": 0
}
